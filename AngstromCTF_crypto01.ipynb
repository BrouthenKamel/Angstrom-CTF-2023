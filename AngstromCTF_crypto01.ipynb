{
  "nbformat": 4,
  "nbformat_minor": 0,
  "metadata": {
    "colab": {
      "provenance": [],
      "authorship_tag": "ABX9TyM2t5/zlx8m05Oa53G3Ze22",
      "include_colab_link": true
    },
    "kernelspec": {
      "name": "python3",
      "display_name": "Python 3"
    },
    "language_info": {
      "name": "python"
    }
  },
  "cells": [
    {
      "cell_type": "markdown",
      "metadata": {
        "id": "view-in-github",
        "colab_type": "text"
      },
      "source": [
        "<a href=\"https://colab.research.google.com/github/BrouthenKamel/Angstrom-CTF-2023/blob/main/AngstromCTF_crypto01.ipynb\" target=\"_parent\"><img src=\"https://colab.research.google.com/assets/colab-badge.svg\" alt=\"Open In Colab\"/></a>"
      ]
    },
    {
      "cell_type": "code",
      "execution_count": 6,
      "metadata": {
        "id": "GKXrUD4jtZ8-"
      },
      "outputs": [],
      "source": [
        "def fake_psi(a, b):\n",
        "    return [i for i in a if i in b]"
      ]
    },
    {
      "cell_type": "code",
      "source": [
        "def zero_encoding(x, n):\n",
        "    ret = []\n",
        "\n",
        "    for i in range(n):\n",
        "        if (x & 1) == 0:\n",
        "            ret.append(x | 1)\n",
        "\n",
        "        x >>= 1\n",
        "\n",
        "    return ret"
      ],
      "metadata": {
        "id": "AOL_OrLTtbch"
      },
      "execution_count": 7,
      "outputs": []
    },
    {
      "cell_type": "code",
      "source": [
        "def one_encoding(x, n):\n",
        "    ret = []\n",
        "\n",
        "    for i in range(n):\n",
        "        if x & 1:\n",
        "            ret.append(x)\n",
        "\n",
        "        x >>= 1\n",
        "\n",
        "    return ret"
      ],
      "metadata": {
        "id": "jpO9a5Oztd7_"
      },
      "execution_count": 8,
      "outputs": []
    },
    {
      "cell_type": "code",
      "source": [
        "base = 8\n",
        "\n",
        "for x in range(1, pow(2,base)):\n",
        "  for y in range(1, x):\n",
        "    if x > y and not (len(str(bin(y))[2:]) < len(str(bin(x))[2:])) :\n",
        "      # print(\"Supply positive x and y such that x < y and x > y.\")\n",
        "      # x = int(input(\"x: \"))\n",
        "      # y = int(input(\"y: \"))\n",
        "      one_x = one_encoding(x, base)\n",
        "      zero_y = zero_encoding(y, base)\n",
        "      match = fake_psi(one_x, zero_y)\n",
        "      if match == [] :\n",
        "        print(\"/////////////////////////////\")\n",
        "        print(f\"success x={x} and y={y}\")\n",
        "        print(\"/////////////////////////////\")\n",
        "      #else:\n",
        "        #print(f\"fail with x={bin(x)} and y={bin(y)} the match is {match}\")"
      ],
      "metadata": {
        "id": "PJcfBI00tgZJ"
      },
      "execution_count": 17,
      "outputs": []
    },
    {
      "cell_type": "code",
      "source": [
        "pow(2,10)-1"
      ],
      "metadata": {
        "colab": {
          "base_uri": "https://localhost:8080/"
        },
        "id": "XC5cX1wh7hFY",
        "outputId": "532fbc45-fb72-41ca-894d-4ce47a5395b8"
      },
      "execution_count": 12,
      "outputs": [
        {
          "output_type": "execute_result",
          "data": {
            "text/plain": [
              "1023"
            ]
          },
          "metadata": {},
          "execution_count": 12
        }
      ]
    },
    {
      "cell_type": "code",
      "source": [
        "#x = int(input(\"x: \"))\n",
        "x=18446744073709551616\n",
        "print(one_encoding(x,64))"
      ],
      "metadata": {
        "colab": {
          "base_uri": "https://localhost:8080/"
        },
        "id": "0kJFNfls8IyM",
        "outputId": "e3571962-52a5-47dc-d391-e765077f74e4"
      },
      "execution_count": 20,
      "outputs": [
        {
          "output_type": "stream",
          "name": "stdout",
          "text": [
            "[]\n"
          ]
        }
      ]
    },
    {
      "cell_type": "code",
      "source": [
        "\"1\" + \"0\"*64"
      ],
      "metadata": {
        "colab": {
          "base_uri": "https://localhost:8080/",
          "height": 36
        },
        "id": "REftTXuv8QlV",
        "outputId": "a38b29a9-b073-42dc-9e98-c16a287ffd29"
      },
      "execution_count": 19,
      "outputs": [
        {
          "output_type": "execute_result",
          "data": {
            "text/plain": [
              "'10000000000000000000000000000000000000000000000000000000000000000'"
            ],
            "application/vnd.google.colaboratory.intrinsic+json": {
              "type": "string"
            }
          },
          "metadata": {},
          "execution_count": 19
        }
      ]
    }
  ]
}